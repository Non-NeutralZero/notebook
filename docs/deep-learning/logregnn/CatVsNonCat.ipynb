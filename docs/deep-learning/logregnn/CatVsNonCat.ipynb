{
  "cells": [
    {
      "cell_type": "markdown",
      "metadata": {
        "id": "kT1aCIERyBiv"
      },
      "source": [
        "## Logistic Regression as a Neural Network\n",
        "\n",
        "Inspired by: Neural Networks and Deep Learning Course on Coursera\n",
        "\n",
        "Link: https://www.coursera.org/learn/neural-networks-deep-learning?specialization=deep-learning\n",
        "\n",
        "\n",
        "Applied on: Car vs Non-Cat Classification Dataset\n",
        "\n",
        "Link: https://www.kaggle.com/datasets/mriganksingh/cat-images-dataset\n",
        "\n",
        "\n"
      ]
    },
    {
      "cell_type": "code",
      "execution_count": 1,
      "metadata": {
        "id": "g4O_dTGvpw5o"
      },
      "outputs": [],
      "source": [
        "import os\n",
        "import numpy as np\n",
        "import pandas as pd\n",
        "import h5py\n",
        "import matplotlib.pyplot as plt\n",
        "import seaborn as sns\n",
        "import warnings\n",
        "warnings.filterwarnings('ignore')"
      ]
    },
    {
      "cell_type": "code",
      "execution_count": 2,
      "metadata": {
        "id": "LoxufZr60FaV"
      },
      "outputs": [],
      "source": [
        "train_file = h5py.File('/content/train_catvnoncat.h5', 'r')\n",
        "test_file = h5py.File('/content/test_catvnoncat.h5', 'r')"
      ]
    },
    {
      "cell_type": "code",
      "execution_count": 3,
      "metadata": {
        "colab": {
          "base_uri": "https://localhost:8080/"
        },
        "id": "CAPKQ4Wm0sh3",
        "outputId": "a489dbd5-21cc-4b45-f99c-03fb84c3001c"
      },
      "outputs": [
        {
          "name": "stdout",
          "output_type": "stream",
          "text": [
            "list_classes, train_set_x, train_set_y, "
          ]
        }
      ],
      "source": [
        "for key in train_file.keys():\n",
        "    print(key, end = ', ')"
      ]
    },
    {
      "cell_type": "code",
      "execution_count": 4,
      "metadata": {
        "id": "0ThQ2B9x0xE9"
      },
      "outputs": [],
      "source": [
        "X_train = np.array(train_file['train_set_x'][:])\n",
        "y_train = np.array(train_file['train_set_y'][:])\n",
        "\n",
        "X_test = np.array(test_file['test_set_x'][:])\n",
        "y_test = np.array(test_file['test_set_y'][:])\n",
        "\n",
        "classes = np.array(test_file[\"list_classes\"][:])"
      ]
    },
    {
      "cell_type": "code",
      "execution_count": 5,
      "metadata": {
        "colab": {
          "base_uri": "https://localhost:8080/"
        },
        "id": "NEnpXDZm0Y_K",
        "outputId": "2dc269b8-21f5-4382-a80a-877637858902"
      },
      "outputs": [
        {
          "name": "stdout",
          "output_type": "stream",
          "text": [
            "(209, 64, 64, 3)\n",
            "(50, 64, 64, 3)\n"
          ]
        }
      ],
      "source": [
        "print(X_train.shape)\n",
        "print(X_test.shape)"
      ]
    },
    {
      "cell_type": "code",
      "execution_count": 6,
      "metadata": {
        "colab": {
          "base_uri": "https://localhost:8080/"
        },
        "id": "ohWKAidZ17uE",
        "outputId": "f1dba3b3-85a4-4162-b9e5-a2d18d8ccbad"
      },
      "outputs": [
        {
          "name": "stdout",
          "output_type": "stream",
          "text": [
            "(209,)\n",
            "(50,)\n"
          ]
        }
      ],
      "source": [
        "print(y_train.shape)\n",
        "print(y_test.shape)"
      ]
    },
    {
      "cell_type": "code",
      "execution_count": 7,
      "metadata": {
        "colab": {
          "base_uri": "https://localhost:8080/"
        },
        "id": "bm8HOSIu1uhZ",
        "outputId": "5af9a682-c735-4fe3-a98e-f3026cfe1efd"
      },
      "outputs": [
        {
          "name": "stdout",
          "output_type": "stream",
          "text": [
            "(1, 209)\n",
            "(1, 50)\n"
          ]
        }
      ],
      "source": [
        "y_train = y_train.reshape((1, y_train.shape[0]))\n",
        "y_test = y_test.reshape((1,y_test.shape[0]))\n",
        "print(y_train.shape)\n",
        "print(y_test.shape)"
      ]
    },
    {
      "cell_type": "code",
      "execution_count": 8,
      "metadata": {
        "colab": {
          "base_uri": "https://localhost:8080/",
          "height": 450
        },
        "id": "GFuq1qoC1-cB",
        "outputId": "2e9b588a-dbe0-4fff-b54b-9817dada1da7"
      },
      "outputs": [
        {
          "data": {
            "application/vnd.google.colaboratory.intrinsic+json": {
              "type": "string"
            },
            "text/plain": [
              "'[0]'"
            ]
          },
          "execution_count": 8,
          "metadata": {},
          "output_type": "execute_result"
        },
        {
          "data": {
            "image/png": "[encoded data removed]",
            "text/plain": [
              "<Figure size 640x480 with 1 Axes>"
            ]
          },
          "metadata": {},
          "output_type": "display_data"
        }
      ],
      "source": [
        "index = 0\n",
        "plt.imshow(X_train[index])\n",
        "str(y_train[:, index])"
      ]
    },
    {
      "cell_type": "code",
      "execution_count": 9,
      "metadata": {
        "colab": {
          "base_uri": "https://localhost:8080/"
        },
        "id": "9cOZgrFi3s6L",
        "outputId": "0b889024-ff44-42ab-dfc6-d96f5ca406f1"
      },
      "outputs": [
        {
          "name": "stdout",
          "output_type": "stream",
          "text": [
            "(12288, 209)\n",
            "(12288, 50)\n"
          ]
        }
      ],
      "source": [
        "## Processing #1 : Reshaping X\n",
        "X_train_p1 = X_train.reshape(X_train.shape[0],-1).T\n",
        "X_test_p1 = X_test.reshape(X_test.shape[0],-1).T\n",
        "\n",
        "print(X_train_p1.shape)\n",
        "print(X_test_p1.shape)"
      ]
    },
    {
      "cell_type": "markdown",
      "metadata": {
        "id": "KkB9iBHK4tN2"
      },
      "source": [
        "### Architecture"
      ]
    },
    {
      "cell_type": "markdown",
      "metadata": {
        "id": "A672VRLXD4TL"
      },
      "source": [
        "𝐺𝑖𝑣𝑒𝑛 𝑥 , 𝑦̂ = 𝑃(𝑦 = 1|𝑥), where 0 ≤ 𝑦̂ ≤ 1\n",
        "\n",
        "\n",
        "Parameters of logistic regression\n",
        "1.   Input observation,features matrix X\n",
        "2.   Target vector Y\n",
        "3.   Weights w\n",
        "4.   Threshold or bias b\n",
        "5.   Output: 𝑦̂, sigmoid(z) where z = 𝑤 𝑇 *𝑥 + 𝑏\n",
        "\n",
        "To get the parameters w and b (i.e. learning), we optimize on:\n",
        "\n",
        "𝐽(𝑤, 𝑏) = 1/m (∑ 𝐿(𝑦̂ (𝑖) , 𝑦 (𝑖) ))\n",
        "\n",
        "i.e.\n",
        "\n",
        "𝐽(𝑤, 𝑏) = 1/m(∑ ylog((𝑦̂) + (1-y)(1-log(1-𝑦̂))))\n",
        "\n"
      ]
    },
    {
      "cell_type": "code",
      "execution_count": 10,
      "metadata": {
        "id": "BM46_tgmB9bR"
      },
      "outputs": [],
      "source": [
        "def sigmoid(z):\n",
        "    return 1 / (1 + np.exp(-z))\n",
        "\n",
        "def get_cost(X,w,b,Y):\n",
        "  ### Forward Pass\n",
        "  m = X.shape[1]\n",
        "  Z = np.dot(w.T, X) + b\n",
        "\n",
        "  ### Activation\n",
        "  A = sigmoid(Z)\n",
        "\n",
        "  ### Return Cost\n",
        "  return np.sum(((- np.log(A))*Y + (-np.log(1-A))*(1-Y)))/m\n",
        "\n",
        "def get_gradients(X,w,b,Y):\n",
        "  m = X.shape[1]\n",
        "  Z = np.dot(w.T, X) + b\n",
        "  A = sigmoid(Z)\n",
        "\n",
        "  dw = (np.dot(X, (A-Y).T))/m\n",
        "  db = (np.sum(A - Y, axis=1, keepdims=True)) / m\n",
        "  return dw, db\n",
        "\n",
        "## Backward Pass\n",
        "def optimizer(X,w,b,Y,learningrate, iterations):\n",
        "  costs=[]\n",
        "\n",
        "  for i in range(iterations):\n",
        "    dw, db = get_gradients(X,w,b,Y)\n",
        "    w = w - (learningrate*dw)\n",
        "    b = b - (learningrate*db)\n",
        "\n",
        "    cost = get_cost(X,w,b,Y)\n",
        "    costs.append(cost)\n",
        "\n",
        "  return dw, db, w, b, costs\n",
        "\n",
        "def get_predictions(X,w,b,baseline=0.5):\n",
        "  m = X.shape[1]\n",
        "  y_pred = np.zeros((1, m))\n",
        "  A = sigmoid(np.dot(w.T,X) + b)\n",
        "\n",
        "  for i in range(A.shape[1]):\n",
        "      if A[0, i] >= baseline:\n",
        "          y_pred[0, i] = 1\n",
        "      else:\n",
        "          y_pred[0, i] = 0\n",
        "\n",
        "  return y_pred\n"
      ]
    },
    {
      "cell_type": "code",
      "execution_count": 11,
      "metadata": {
        "colab": {
          "base_uri": "https://localhost:8080/"
        },
        "id": "5IljWWg6MGf3",
        "outputId": "25f03a6d-cfcb-486d-d99f-090ab53bd436"
      },
      "outputs": [
        {
          "data": {
            "text/plain": [
              "(array([[60.2494515 ],\n",
              "        [64.95710659],\n",
              "        [55.99812824],\n",
              "        ...,\n",
              "        [54.40062773],\n",
              "        [57.1525577 ],\n",
              "        [41.99824424]]),\n",
              " array([[0.61253878]]),\n",
              " array([[ 0.00041726],\n",
              "        [-0.001241  ],\n",
              "        [-0.00047469],\n",
              "        ...,\n",
              "        [-0.00076874],\n",
              "        [-0.00181981],\n",
              "        [ 0.00055124]]),\n",
              " array([[-8.03611759e-06]]),\n",
              " [68.31070649470877,\n",
              "  nan,\n",
              "  nan,\n",
              "  39.78401699233342,\n",
              "  nan,\n",
              "  nan,\n",
              "  11.314854086879214,\n",
              "  nan,\n",
              "  nan,\n",
              "  nan,\n",
              "  nan,\n",
              "  57.36232689024544,\n",
              "  nan,\n",
              "  nan,\n",
              "  28.866390826021867,\n",
              "  nan,\n",
              "  nan,\n",
              "  nan,\n",
              "  nan,\n",
              "  nan,\n",
              "  80.7297119098587,\n",
              "  nan,\n",
              "  nan,\n",
              "  50.950718817561516,\n",
              "  nan,\n",
              "  nan,\n",
              "  23.182461526011934,\n",
              "  nan,\n",
              "  nan,\n",
              "  nan,\n",
              "  nan,\n",
              "  nan,\n",
              "  32.25453035444755,\n",
              "  nan,\n",
              "  nan,\n",
              "  nan,\n",
              "  nan,\n",
              "  nan,\n",
              "  43.33684753724574,\n",
              "  nan,\n",
              "  nan,\n",
              "  nan,\n",
              "  nan,\n",
              "  nan,\n",
              "  nan,\n",
              "  nan,\n",
              "  nan,\n",
              "  nan,\n",
              "  nan,\n",
              "  nan])"
            ]
          },
          "execution_count": 11,
          "metadata": {},
          "output_type": "execute_result"
        }
      ],
      "source": [
        "size_w = X_train_p1.shape[0]\n",
        "w = np.zeros((size_w, 1))\n",
        "b = 0\n",
        "\n",
        "## Experiment: try different learningrates\n",
        "dw, db, w, b, costs = optimizer(X_train_p1, w, b, y_train, learningrate=0.00001, iterations= 50)\n",
        "dw, db, w, b, costs"
      ]
    },
    {
      "cell_type": "code",
      "execution_count": 12,
      "metadata": {
        "colab": {
          "base_uri": "https://localhost:8080/"
        },
        "id": "-kaC3NXzMrdK",
        "outputId": "42c6b5e9-b26e-4966-d6fb-e84c26e1d16b"
      },
      "outputs": [
        {
          "data": {
            "text/plain": [
              "(array([[58.34449761],\n",
              "        [62.46411483],\n",
              "        [54.46411483],\n",
              "        ...,\n",
              "        [53.61722488],\n",
              "        [55.45454545],\n",
              "        [41.35406699]]),\n",
              " array([[0.57894737]]),\n",
              " array([[ 0.04118182],\n",
              "        [-0.12459569],\n",
              "        [-0.04752153],\n",
              "        ...,\n",
              "        [-0.07614593],\n",
              "        [-0.18098086],\n",
              "        [ 0.05657656]]),\n",
              " array([[-0.00081579]]),\n",
              " [nan,\n",
              "  nan,\n",
              "  nan,\n",
              "  nan,\n",
              "  nan,\n",
              "  nan,\n",
              "  nan,\n",
              "  nan,\n",
              "  nan,\n",
              "  nan,\n",
              "  nan,\n",
              "  nan,\n",
              "  nan,\n",
              "  nan,\n",
              "  nan,\n",
              "  nan,\n",
              "  nan,\n",
              "  nan,\n",
              "  nan,\n",
              "  nan,\n",
              "  nan,\n",
              "  nan,\n",
              "  nan,\n",
              "  nan,\n",
              "  nan,\n",
              "  nan,\n",
              "  nan,\n",
              "  nan,\n",
              "  nan,\n",
              "  nan,\n",
              "  nan,\n",
              "  nan,\n",
              "  nan,\n",
              "  nan,\n",
              "  nan,\n",
              "  nan,\n",
              "  nan,\n",
              "  nan,\n",
              "  nan,\n",
              "  nan,\n",
              "  nan,\n",
              "  nan,\n",
              "  nan,\n",
              "  nan,\n",
              "  nan,\n",
              "  nan,\n",
              "  nan,\n",
              "  nan,\n",
              "  nan,\n",
              "  nan])"
            ]
          },
          "execution_count": 12,
          "metadata": {},
          "output_type": "execute_result"
        }
      ],
      "source": [
        "size_w = X_train_p1.shape[0]\n",
        "w = np.zeros((size_w, 1))\n",
        "b = 0\n",
        "\n",
        "## Experiment: try different learningrates and iterations\n",
        "dw, db, w, b, costs = optimizer(X_train_p1, w, b, y_train, learningrate=0.001, iterations= 50)\n",
        "dw, db, w, b, costs"
      ]
    },
    {
      "cell_type": "code",
      "execution_count": 13,
      "metadata": {
        "id": "XzLNId4THEor"
      },
      "outputs": [],
      "source": [
        "def train(X_train, X_test, y_train, y_test, learningrate, iterations):\n",
        "\n",
        "  ## Init parameters\n",
        "  size_w = X_train.shape[0]\n",
        "  w = np.zeros((size_w, 1))\n",
        "  b = 0\n",
        "\n",
        "  ## Optimize\n",
        "  dw, db, w, b, costs = optimizer(X_train, w, b, y_train, learningrate, iterations)\n",
        "\n",
        "  ## Predict\n",
        "  y_pred_train = get_predictions(X_train,w,b,baseline=0.5)\n",
        "  y_pred_test = get_predictions(X_test,w,b,baseline=0.5)\n",
        "\n",
        "  train_accuracy = 100 - round(np.mean(np.abs(y_pred_train - y_train)) * 100, 3)\n",
        "  test_accuracy = 100 - round(np.mean(np.abs(y_pred_test - y_test)) * 100, 3)\n",
        "\n",
        "  print(f\"Training accuracy: {train_accuracy} %\")\n",
        "  print(f\"Test accuracy: {test_accuracy} %\")\n",
        "\n",
        "  predictions = {\n",
        "        \"training_predictions\" : y_pred_train,\n",
        "        \"test_predictions\" : y_pred_test,\n",
        "    }\n",
        "\n",
        "  return predictions, costs"
      ]
    },
    {
      "cell_type": "code",
      "execution_count": 14,
      "metadata": {
        "colab": {
          "base_uri": "https://localhost:8080/"
        },
        "id": "0qVxDxjeKB7T",
        "outputId": "e8250672-eb18-4d8f-c9cc-98ba42eb3c08"
      },
      "outputs": [
        {
          "name": "stdout",
          "output_type": "stream",
          "text": [
            "Training accuracy: 48.804 %\n",
            "Test accuracy: 74.0 %\n"
          ]
        }
      ],
      "source": [
        "predictions, costs = train(X_train_p1, X_test_p1, y_train, y_test, learningrate=0.0000001, iterations= 50)"
      ]
    },
    {
      "cell_type": "code",
      "execution_count": 15,
      "metadata": {
        "colab": {
          "base_uri": "https://localhost:8080/",
          "height": 447
        },
        "id": "1JTEf0KxLbyM",
        "outputId": "0c45c2cd-8705-4bc2-95d5-5adf84965451"
      },
      "outputs": [
        {
          "data": {
            "text/plain": [
              "[<matplotlib.lines.Line2D at 0x7dd9b9601600>]"
            ]
          },
          "execution_count": 15,
          "metadata": {},
          "output_type": "execute_result"
        },
        {
          "data": {
            "image/png": "[encoded data removed]",
            "text/plain": [
              "<Figure size 640x480 with 1 Axes>"
            ]
          },
          "metadata": {},
          "output_type": "display_data"
        }
      ],
      "source": [
        "iterations= 50\n",
        "plt.plot(range(0, iterations), costs)"
      ]
    }
  ],
  "metadata": {
    "colab": {
      "provenance": [],
      "toc_visible": true
    },
    "kernelspec": {
      "display_name": "Python 3",
      "name": "python3"
    },
    "language_info": {
      "name": "python",
      "version": "3.9.0"
    }
  },
  "nbformat": 4,
  "nbformat_minor": 0
}
