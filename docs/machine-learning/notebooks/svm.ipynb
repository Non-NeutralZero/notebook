{
  "nbformat": 4,
  "nbformat_minor": 0,
  "metadata": {
    "colab": {
      "name": "SVM.ipynb",
      "provenance": [],
      "collapsed_sections": [],
      "toc_visible": true,
      "authorship_tag": "ABX9TyNdZX4DKZqoWAtc+jJl7/EA",
      "include_colab_link": true
    },
    "kernelspec": {
      "name": "python3",
      "display_name": "Python 3"
    }
  },
  "cells": [
    {
      "cell_type": "markdown",
      "metadata": {
        "id": "view-in-github",
        "colab_type": "text"
      },
      "source": [
        "<a href=\"https://colab.research.google.com/github/Non-NeutralZero/datascience-dev-helpers/blob/master/SVM.ipynb\" target=\"_parent\"><img src=\"https://colab.research.google.com/assets/colab-badge.svg\" alt=\"Open In Colab\"/></a>"
      ]
    },
    {
      "cell_type": "markdown",
      "metadata": {
        "id": "eUuRr0f9DT_Y",
        "colab_type": "text"
      },
      "source": [
        "*   P: ***We want to figure out a way to separate data into classes***\n",
        "*   S: A linear classifier can help. Its objective would be to divide data using a hyperplane, and since the data points, from each class, that are closer to the classifier will be helping us decide on the orientation and position of the classifier, we can give them a fancy name (Support vectors) and call our linear classifier, the Support Vector Classifier. \n",
        "*   P: ***But, If the data is \"clearly\" separable, then we won't have one classifier - we would actually end up with so many possibilities to choosing one hyperplane AND we have to make sure future predictions are more likely to be correctly classified***\n",
        "*   S: We could choose the one that insures the maximum distance between the Support vectors of the two classes (we'll call it a **maximum margin classifier**.) That way, we'll seperate the existing data, and have more confidence in classifying future data points.\n",
        "*   P: ***We'll be looking to maximize the margin between the data points and the hyperplane, how do we do that?***\n",
        "*   S: Hinge Loss!\n",
        "*   P: ***Overfitting, this type of classifier would be very sensitive to outliers for example***\n",
        "*   S: Explorative data analysis, outliers analysis or allow misclassification (more on that below). "
      ]
    },
    {
      "cell_type": "code",
      "metadata": {
        "id": "LOm66TdnHS1E",
        "colab_type": "code",
        "cellView": "form",
        "colab": {}
      },
      "source": [
        "#@title ##Imports [run the cell]\n",
        "import numpy as np\n",
        "import matplotlib.pyplot as plt\n",
        "from matplotlib import style\n",
        "style.use(\"ggplot\")\n",
        "from sklearn import svm\n",
        "from sklearn.datasets import load_breast_cancer\n",
        "import pandas as pd\n",
        "from sklearn import metrics"
      ],
      "execution_count": 0,
      "outputs": []
    },
    {
      "cell_type": "markdown",
      "metadata": {
        "id": "Hv7HnZC-HNMv",
        "colab_type": "text"
      },
      "source": [
        "# SVC"
      ]
    },
    {
      "cell_type": "code",
      "metadata": {
        "id": "1gOXRVpBDFbC",
        "colab_type": "code",
        "outputId": "afa8948d-6c94-48d4-f620-e0e0965ec1bb",
        "colab": {
          "base_uri": "https://localhost:8080/",
          "height": 265
        }
      },
      "source": [
        "# let's try to divide some observations based on some two features\n",
        "x = [1, 5, 30, 10, 35, 40]\n",
        "y = [20, 25, 37, 15, 40, 52]\n",
        "## First, let's see how the observations look in a 2D viz\n",
        "plt.scatter(x,y)\n",
        "plt.show()"
      ],
      "execution_count": 3,
      "outputs": [
        {
          "output_type": "display_data",
          "data": {
            "image/png": "[encoded data removed]",
            "text/plain": [
              "<Figure size 432x288 with 1 Axes>"
            ]
          },
          "metadata": {
            "tags": []
          }
        }
      ]
    },
    {
      "cell_type": "code",
      "metadata": {
        "id": "1j-SA9BMD7qD",
        "colab_type": "code",
        "outputId": "a9fd7a72-5dfd-4511-bb83-eab2ca6b761d",
        "colab": {
          "base_uri": "https://localhost:8080/",
          "height": 85
        }
      },
      "source": [
        "X = np.array([[1,20], \n",
        "             [5,25],\n",
        "             [30,37],\n",
        "             [10,15],\n",
        "             [35,40],\n",
        "             [40,52]])\n",
        "y = np.array([0,0,1,0,1,1])\n",
        "\n",
        "clf = svm.SVC(kernel='linear')\n",
        "## Fitting the classifier\n",
        "clf.fit(X,y)"
      ],
      "execution_count": 4,
      "outputs": [
        {
          "output_type": "execute_result",
          "data": {
            "text/plain": [
              "SVC(C=1.0, break_ties=False, cache_size=200, class_weight=None, coef0=0.0,\n",
              "    decision_function_shape='ovr', degree=3, gamma='scale', kernel='linear',\n",
              "    max_iter=-1, probability=False, random_state=None, shrinking=True,\n",
              "    tol=0.001, verbose=False)"
            ]
          },
          "metadata": {
            "tags": []
          },
          "execution_count": 4
        }
      ]
    },
    {
      "cell_type": "code",
      "metadata": {
        "id": "2dEoCfyLGLjK",
        "colab_type": "code",
        "outputId": "7b1f755a-409d-4027-f4c4-a98386c39fc2",
        "colab": {
          "base_uri": "https://localhost:8080/",
          "height": 282
        }
      },
      "source": [
        "w = clf.coef_[0]\n",
        "print(w)\n",
        "a = -w[0] / w[1]\n",
        "xx = np.linspace(0,40)\n",
        "yy = a * xx - clf.intercept_[0] / w[1]\n",
        "\n",
        "h0 = plt.plot(xx, yy, 'k-', label=\"non weighted div\")\n",
        "plt.scatter(X[:, 0], X[:, 1], c = y)\n",
        "plt.legend()\n",
        "plt.show()"
      ],
      "execution_count": 5,
      "outputs": [
        {
          "output_type": "stream",
          "text": [
            "[0.06447349 0.03229683]\n"
          ],
          "name": "stdout"
        },
        {
          "output_type": "display_data",
          "data": {
            "image/png": "[encoded data removed]",
            "text/plain": [
              "<Figure size 432x288 with 1 Axes>"
            ]
          },
          "metadata": {
            "tags": []
          }
        }
      ]
    },
    {
      "cell_type": "markdown",
      "metadata": {
        "id": "eugQxVsLKJXm",
        "colab_type": "text"
      },
      "source": [
        "*   P: ***Linear Inseparability***\n",
        "*   S: We can allow the classifier to make some misclassifications. Once we do that we can apply the maximum margin concept we used when data was linearly separable. And even if data is linearly separable, we can choose this solution to avoid overfitting.\n",
        "*   P: ***How do we control this trade-off? (i.e. minimizing misclassifications and maximizing the margin)***\n",
        "*   S: We can add a hyperparameter C (to our original objective function). when C is small misclassifications are less important and the focus is more on maximizing the margin.\n",
        "*   P: ***But not all data points are \"equal\", in the sense that data points that are far away from the bouandry shouldn't be misclassified***\n",
        "*   S: We can incorporate a panalty on that distance. Now, our objective function will have three parts: maximizing margin, minimizing misclassifications, penalizing distant points on the wrong side of the boundry."
      ]
    },
    {
      "cell_type": "code",
      "metadata": {
        "id": "zoHgYdXPaVV3",
        "colab_type": "code",
        "outputId": "ce6ba5f2-10fc-42d1-8a95-c9298eba9b88",
        "colab": {
          "base_uri": "https://localhost:8080/",
          "height": 85
        }
      },
      "source": [
        "data = load_breast_cancer()\n",
        "X= pd.DataFrame(data.data, columns = data.feature_names)\n",
        "y= pd.Series(data.target)\n",
        "\n",
        "X = np.array([[1,20], \n",
        "             [5,25],\n",
        "             [30,37],\n",
        "             [20,35],\n",
        "             [35,40],\n",
        "             [40,52]])\n",
        "y = np.array([0,0,1,0,1,1])\n",
        "\n",
        "C = 0.5\n",
        "classifier = svm.LinearSVC(C=C, max_iter=10000)\n",
        "classifier.fit(X,y)"
      ],
      "execution_count": 6,
      "outputs": [
        {
          "output_type": "execute_result",
          "data": {
            "text/plain": [
              "LinearSVC(C=0.5, class_weight=None, dual=True, fit_intercept=True,\n",
              "          intercept_scaling=1, loss='squared_hinge', max_iter=10000,\n",
              "          multi_class='ovr', penalty='l2', random_state=None, tol=0.0001,\n",
              "          verbose=0)"
            ]
          },
          "metadata": {
            "tags": []
          },
          "execution_count": 6
        }
      ]
    },
    {
      "cell_type": "code",
      "metadata": {
        "id": "cF31Dkzta5mC",
        "colab_type": "code",
        "outputId": "14b05b9f-d702-4890-d876-ee8dd1c1174c",
        "colab": {
          "base_uri": "https://localhost:8080/",
          "height": 282
        }
      },
      "source": [
        "w = clf.coef_[0]\n",
        "print(w)\n",
        "a = -w[0] / w[1]\n",
        "xx = np.linspace(0,40)\n",
        "yy = a * xx - clf.intercept_[0] / w[1]\n",
        "\n",
        "h0 = plt.plot(xx, yy, 'k-', label=\"non weighted div\")\n",
        "plt.scatter(X[:, 0], X[:, 1], c = y)\n",
        "plt.legend()\n",
        "plt.show()"
      ],
      "execution_count": 7,
      "outputs": [
        {
          "output_type": "stream",
          "text": [
            "[0.06447349 0.03229683]\n"
          ],
          "name": "stdout"
        },
        {
          "output_type": "display_data",
          "data": {
            "image/png": "[encoded data removed]",
            "text/plain": [
              "<Figure size 432x288 with 1 Axes>"
            ]
          },
          "metadata": {
            "tags": []
          }
        }
      ]
    },
    {
      "cell_type": "markdown",
      "metadata": {
        "id": "KOibVrJSq9cy",
        "colab_type": "text"
      },
      "source": [
        "# Kernel functions\n",
        "\n",
        "Another solution to data inseparability is kernel functions. \n",
        "\n",
        "[See: How to intuitively explain what a kernel is?](https://stats.stackexchange.com/questions/152897/how-to-intuitively-explain-what-a-kernel-is)\n",
        "\n"
      ]
    },
    {
      "cell_type": "code",
      "metadata": {
        "id": "KAmnFCkKr4gT",
        "colab_type": "code",
        "outputId": "79dd06f8-e923-4cd2-d3e6-749ec3f1abaf",
        "colab": {
          "base_uri": "https://localhost:8080/",
          "height": 275
        }
      },
      "source": [
        "data = load_breast_cancer()\n",
        "X= pd.DataFrame(data.data, columns = data.feature_names)\n",
        "y= pd.Series(data.target)\n",
        "\n",
        "\n",
        "C = 1.0  # SVM regularization parameter, should be determined using cross-val\n",
        "models = (svm.LinearSVC(C=C, max_iter=10000),\n",
        "          svm.SVC(kernel='linear', C=C),\n",
        "          svm.SVC(kernel='rbf', gamma=0.7, C=C),\n",
        "          svm.SVC(kernel='poly', degree=2, gamma='auto', C=C, coef0=0.5))\n",
        "\n",
        "models = (clf.fit(X, y) for clf in models)\n",
        "\n",
        "titles = ('SVC with linear kernel',\n",
        "          'LinearSVC (linear kernel)',\n",
        "          'SVC with RBF kernel',\n",
        "          'SVC with polynomial (degree 3) kernel')\n",
        "\n",
        "svms= []\n",
        "for title, clf in zip(titles, models):\n",
        "    svms.append(clf)  \n",
        "    print(\"Accurary score for {0} is \\n {1} on train \\n\".format(title, \\\n",
        "                                                metrics.accuracy_score(y, clf.predict(X)) \n",
        "                                                 ))"
      ],
      "execution_count": 8,
      "outputs": [
        {
          "output_type": "stream",
          "text": [
            "/usr/local/lib/python3.6/dist-packages/sklearn/svm/_base.py:947: ConvergenceWarning: Liblinear failed to converge, increase the number of iterations.\n",
            "  \"the number of iterations.\", ConvergenceWarning)\n"
          ],
          "name": "stderr"
        },
        {
          "output_type": "stream",
          "text": [
            "Accurary score for SVC with linear kernel is \n",
            " 0.9138840070298769 on train \n",
            "\n",
            "Accurary score for LinearSVC (linear kernel) is \n",
            " 0.9666080843585237 on train \n",
            "\n",
            "Accurary score for SVC with RBF kernel is \n",
            " 1.0 on train \n",
            "\n",
            "Accurary score for SVC with polynomial (degree 3) kernel is \n",
            " 0.9701230228471002 on train \n",
            "\n"
          ],
          "name": "stdout"
        }
      ]
    },
    {
      "cell_type": "code",
      "metadata": {
        "id": "t79oCrKz3V2B",
        "colab_type": "code",
        "outputId": "f3b7eb2f-8e48-44d9-970d-2c06e37ca839",
        "colab": {
          "base_uri": "https://localhost:8080/",
          "height": 282
        }
      },
      "source": [
        "## pick a linear kernel model \n",
        "model = svms[1]\n",
        "\n",
        "plt.scatter(X.iloc[:,3], X.iloc[:,2], c=y, cmap='winter');\n",
        "\n",
        "ax = plt.gca()\n",
        "xlim = ax.get_xlim()\n",
        "w = model.coef_[0]\n",
        "a = -w[0] / w[1]\n",
        "xx = np.linspace(xlim[0], xlim[1])\n",
        "yy = a * xx - model.intercept_[0] / w[1]\n",
        "plt.plot(xx, yy)\n",
        "yy = a * xx - (model.intercept_[0] - 1) / w[1]\n",
        "plt.plot(xx, yy, 'k--')\n",
        "yy = a * xx - (model.intercept_[0] + 1) / w[1]\n",
        "plt.plot(xx, yy, 'k--')"
      ],
      "execution_count": 9,
      "outputs": [
        {
          "output_type": "execute_result",
          "data": {
            "text/plain": [
              "[<matplotlib.lines.Line2D at 0x7f7f9a21f748>]"
            ]
          },
          "metadata": {
            "tags": []
          },
          "execution_count": 9
        },
        {
          "output_type": "display_data",
          "data": {
            "image/png": "[encoded data removed]",
            "text/plain": [
              "<Figure size 432x288 with 1 Axes>"
            ]
          },
          "metadata": {
            "tags": []
          }
        }
      ]
    },
    {
      "cell_type": "markdown",
      "metadata": {
        "id": "tj_4OZZsNTv1",
        "colab_type": "text"
      },
      "source": [
        "## SVMs hypertuning"
      ]
    },
    {
      "cell_type": "code",
      "metadata": {
        "id": "wSVIQiTANl_y",
        "colab_type": "code",
        "outputId": "9fe5af7b-44a5-4da9-cff7-4e3fd2b9c34e",
        "colab": {
          "base_uri": "https://localhost:8080/",
          "height": 85
        }
      },
      "source": [
        "from sklearn.model_selection import cross_val_score\n",
        "from sklearn.model_selection import ShuffleSplit\n",
        "from sklearn.model_selection import GridSearchCV\n",
        "\n",
        "parameter_candidates = [\n",
        "  {'C': [0, 0.5, 1.0, 10], \n",
        "   'gamma': [0.0001, 0.001, 0.01, 0.1, 0.5, 1], \n",
        "   'kernel': ['rbf']},\n",
        "   {'C': [0, 0.5, 1.0, 10], \n",
        "   'gamma': [ 0.01, 0.1, 0.5, 1], \n",
        "   'degree': [2,3,4],\n",
        "   'kernel': ['poly']}\n",
        "]\n",
        "\n",
        "cv = ShuffleSplit(n_splits=5, test_size=0.1, random_state=123)\n",
        "clf = GridSearchCV(estimator=svm.SVC(), param_grid=parameter_candidates, n_jobs=20, \n",
        "                   cv=cv, scoring=\"roc_auc\", verbose=1)\n",
        "\n",
        "clf.fit(X, y) \n",
        "\n",
        "# View the best parameters for the model found using grid search\n",
        "print('\\n######### GridSearchCV results ##########')\n",
        "print('Best C:',clf.best_estimator_.C) \n",
        "print('Best score:', clf.best_score_)\n",
        "print('Best Kernel:',clf.best_estimator_.kernel)\n",
        "print('Best Gamma:',clf.best_estimator_.gamma)"
      ],
      "execution_count": 0,
      "outputs": [
        {
          "output_type": "stream",
          "text": [
            "Fitting 5 folds for each of 72 candidates, totalling 360 fits\n"
          ],
          "name": "stdout"
        },
        {
          "output_type": "stream",
          "text": [
            "[Parallel(n_jobs=20)]: Using backend LokyBackend with 20 concurrent workers.\n",
            "[Parallel(n_jobs=20)]: Done  10 tasks      | elapsed:    7.9s\n",
            "[Parallel(n_jobs=20)]: Done 160 tasks      | elapsed:   17.6s\n"
          ],
          "name": "stderr"
        }
      ]
    }
  ]
}